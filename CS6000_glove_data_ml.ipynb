{
  "nbformat": 4,
  "nbformat_minor": 0,
  "metadata": {
    "colab": {
      "provenance": [],
      "toc_visible": true
    },
    "kernelspec": {
      "name": "python3",
      "display_name": "Python 3"
    },
    "language_info": {
      "name": "python"
    }
  },
  "cells": [
    {
      "cell_type": "markdown",
      "source": [
        "# Download Dataset"
      ],
      "metadata": {
        "id": "l1WX3hZnhvF8"
      }
    },
    {
      "cell_type": "code",
      "execution_count": null,
      "metadata": {
        "colab": {
          "base_uri": "https://localhost:8080/"
        },
        "id": "7BXVYvqGhpAU",
        "outputId": "bd43f0ac-46e1-4bce-97fd-c5be82c95d95"
      },
      "outputs": [
        {
          "output_type": "stream",
          "name": "stdout",
          "text": [
            "--2024-12-02 04:01:11--  https://www.mdpi.com/article/10.3390/s24186157/s1\n",
            "Resolving www.mdpi.com (www.mdpi.com)... 104.18.24.151, 104.18.25.151\n",
            "Connecting to www.mdpi.com (www.mdpi.com)|104.18.24.151|:443... connected.\n",
            "HTTP request sent, awaiting response... 301 Moved Permanently\n",
            "Location: /1424-8220/24/18/6157/s1 [following]\n",
            "--2024-12-02 04:01:11--  https://www.mdpi.com/1424-8220/24/18/6157/s1\n",
            "Reusing existing connection to www.mdpi.com:443.\n",
            "HTTP request sent, awaiting response... 302 Found\n",
            "Location: https://mdpi-res.com/d_attachment/sensors/sensors-24-06157/article_deploy/sensors-24-06157-s001.zip?version=1727173302 [following]\n",
            "--2024-12-02 04:01:11--  https://mdpi-res.com/d_attachment/sensors/sensors-24-06157/article_deploy/sensors-24-06157-s001.zip?version=1727173302\n",
            "Resolving mdpi-res.com (mdpi-res.com)... 104.26.15.90, 172.67.68.164, 104.26.14.90, ...\n",
            "Connecting to mdpi-res.com (mdpi-res.com)|104.26.15.90|:443... connected.\n",
            "HTTP request sent, awaiting response... 200 OK\n",
            "Length: 463130 (452K) [application/zip]\n",
            "Saving to: ‘s1’\n",
            "\n",
            "s1                  100%[===================>] 452.28K  --.-KB/s    in 0.04s   \n",
            "\n",
            "2024-12-02 04:01:12 (10.7 MB/s) - ‘s1’ saved [463130/463130]\n",
            "\n"
          ]
        }
      ],
      "source": [
        "!wget https://www.mdpi.com/article/10.3390/s24186157/s1"
      ]
    },
    {
      "cell_type": "code",
      "source": [
        "!unzip -l s1"
      ],
      "metadata": {
        "colab": {
          "base_uri": "https://localhost:8080/"
        },
        "id": "jdDyE1gyh7jr",
        "outputId": "e1378841-2b1b-4728-fe51-2ee4b57b541e"
      },
      "execution_count": null,
      "outputs": [
        {
          "output_type": "stream",
          "name": "stdout",
          "text": [
            "Archive:  s1\n",
            "  Length      Date    Time    Name\n",
            "---------  ---------- -----   ----\n",
            "  1119781  2024-08-07 17:28   game_gestures.db.csv\n",
            "     1887  2024-08-07 17:28   __MACOSX/._game_gestures.db.csv\n",
            "     4904  2024-08-12 18:46   README 1.md\n",
            "     1110  2024-08-12 18:46   __MACOSX/._README 1.md\n",
            "    61924  2024-08-12 18:46   README 1.pdf\n",
            "     1113  2024-08-12 18:46   __MACOSX/._README 1.pdf\n",
            "---------                     -------\n",
            "  1190719                     6 files\n"
          ]
        }
      ]
    },
    {
      "cell_type": "code",
      "source": [
        "!unzip s1 -x \"__MACOSX/*\" \"README*\""
      ],
      "metadata": {
        "colab": {
          "base_uri": "https://localhost:8080/"
        },
        "id": "qKF7dVfPiBtO",
        "outputId": "1c20b114-3640-4b54-e9f8-dea8fd76d93d"
      },
      "execution_count": null,
      "outputs": [
        {
          "output_type": "stream",
          "name": "stdout",
          "text": [
            "Archive:  s1\n",
            "  inflating: game_gestures.db.csv    \n"
          ]
        }
      ]
    },
    {
      "cell_type": "code",
      "source": [
        "!head game_gestures.db.csv"
      ],
      "metadata": {
        "colab": {
          "base_uri": "https://localhost:8080/"
        },
        "id": "ZnkLEnQ1iLKq",
        "outputId": "013d23e0-a843-488a-c87a-dc5c9d71afda"
      },
      "execution_count": null,
      "outputs": [
        {
          "output_type": "stream",
          "name": "stdout",
          "text": [
            "ID_person;age;gender;gesture;repetition;recording;time;index.bend;thumb.bend;little.bend;middle.bend;ring.bend;index.pressure;thumb.pressure;little.pressure;middle.pressure;ring.pressure;imu.orientEulX;imu.orientEulY;imu.orientEulZ;imu.orientQuatX;imu.orientQuatY;imu.orientQuatZ;imu.orientQuatW;imu.linacceleX;imu.linacceleY;imu.linacceleZ\n",
            "8;59;M;wave right;1;2;\"[0 10 20 30 40 50 60 70 80 90 100 110 120 130 140 150 160 170 180 190 200\n",
            " 210 220 230 240 250 260 270 280 290 300 310 320 330 340 350 360 370 380\n",
            " 390 400 410 420 430 440 450 460 470 480 490 500 510 520 530 540 550 560\n",
            " 570 580 590 600 610 620 630 640 650 660 670 680 690 700 710 720 730 740\n",
            " 750 760 770 780 790 800 810 820 830 840 850 860 870 880 890 900 910 920\n",
            " 930 940 950 960 970 980 990 1000 1010 1020 1030 1040 1050 1060 1070 1080\n",
            " 1090 1100 1110 1120 1130 1140 1150 1160 1170 1180 1190 1200]\";\"[5100 5100 5105 5108 5096 5113 5105 5097 5109 5117 5164 5160 5152 5153\n",
            " 5153 5156 5177 5152 5152 5168 5153 5164 5153 5165 5116 5152 5160 5109\n",
            " 5152 5181 5225 5249 5257 5265 5289 5276 5281 5281 5285 5280 5220 5220\n"
          ]
        }
      ]
    },
    {
      "cell_type": "markdown",
      "source": [
        "# Import required libraries\n"
      ],
      "metadata": {
        "id": "P22Rr59dib92"
      }
    },
    {
      "cell_type": "code",
      "source": [
        "import numpy as np\n",
        "import pandas as pd\n",
        "import tensorflow as tf\n",
        "from sklearn.model_selection import train_test_split\n",
        "from sklearn.preprocessing import StandardScaler, LabelEncoder\n",
        "import os\n",
        "import json\n",
        "import matplotlib.pyplot as plt\n",
        "import seaborn as sns\n",
        "import joblib\n"
      ],
      "metadata": {
        "id": "hQ6mEQSiid7G"
      },
      "execution_count": null,
      "outputs": []
    },
    {
      "cell_type": "markdown",
      "source": [
        "## Data preprocessing functions"
      ],
      "metadata": {
        "id": "JAnDp1yJiqD-"
      }
    },
    {
      "cell_type": "code",
      "source": [
        "def preprocess_data(df):\n",
        "    \"\"\"Preprocess the sensor data from CSV file.\"\"\"\n",
        "    # Convert sensor data from string arrays to numpy arrays\n",
        "    sensor_columns = [col for col in df.columns if any(x in col for x in ['bend', 'pressure', 'imu', 'time'])]\n",
        "\n",
        "    for col in sensor_columns:\n",
        "        # Convert string of space-separated values to numpy arrays\n",
        "        df[col] = df[col].str.strip('[]').str.split(expand=False).apply(lambda x: [float(i) for i in x])\n",
        "\n",
        "    # Encode categorical variables\n",
        "    le = LabelEncoder()\n",
        "    df['gender'] = le.fit_transform(df['gender'])\n",
        "    df['gesture'] = le.fit_transform(df['gesture'])\n",
        "\n",
        "    return df\n"
      ],
      "metadata": {
        "id": "QSigUEdcisR5"
      },
      "execution_count": null,
      "outputs": []
    },
    {
      "cell_type": "markdown",
      "source": [
        "## Feature Extraction"
      ],
      "metadata": {
        "id": "4xEqIr2si5rW"
      }
    },
    {
      "cell_type": "code",
      "source": [
        "def extract_features(row):\n",
        "    \"\"\"Extract features from sensor data for each recording.\"\"\"\n",
        "    features = []\n",
        "\n",
        "    # Add static features\n",
        "    features.extend([row['age'], row['gender']])\n",
        "\n",
        "    # Define sensor groups for feature extraction\n",
        "    sensor_groups = {\n",
        "        'bend': [col for col in row.index if 'bend' in col],\n",
        "        'pressure': [col for col in row.index if 'pressure' in col],\n",
        "        'orientation': [col for col in row.index if 'orient' in col],\n",
        "        'acceleration': [col for col in row.index if 'linaccele' in col]\n",
        "    }\n",
        "\n",
        "    # Extract features for each sensor group\n",
        "    for _, columns in sensor_groups.items():\n",
        "        for col in columns:\n",
        "            values = row[col]\n",
        "            features.extend([\n",
        "                np.mean(values),\n",
        "                np.std(values),\n",
        "                np.max(values),\n",
        "                np.min(values),\n",
        "                np.median(values),\n",
        "                np.percentile(values, 25),\n",
        "                np.percentile(values, 75)\n",
        "            ])\n",
        "\n",
        "    return np.array(features)\n"
      ],
      "metadata": {
        "id": "O2DkChO6i8lZ"
      },
      "execution_count": null,
      "outputs": []
    },
    {
      "cell_type": "markdown",
      "source": [
        "## Model creation function"
      ],
      "metadata": {
        "id": "iw1FNBT6jG9K"
      }
    },
    {
      "cell_type": "code",
      "source": [
        "def create_model(input_shape):\n",
        "    \"\"\"Create the neural network model according to the paper's architecture.\"\"\"\n",
        "    inputs = tf.keras.Input(shape=(input_shape,))\n",
        "\n",
        "    # Reshape input for 2D convolution\n",
        "    # Calculate appropriate dimensions\n",
        "    # 142 features = bend(5) + pressure(5) + imu(10) sensors with multiple readings\n",
        "    x = tf.keras.layers.Reshape((71, 2, 1))(inputs)  # Reshape to 71x2 grid\n",
        "\n",
        "    # First Conv2D layer\n",
        "    x = tf.keras.layers.Conv2D(32, (3, 3),\n",
        "                              activation='relu',\n",
        "                              padding='same',\n",
        "                              name='conv1')(x)\n",
        "    x = tf.keras.layers.BatchNormalization()(x)\n",
        "\n",
        "    # Second Conv2D layer\n",
        "    x = tf.keras.layers.Conv2D(64, (3, 3),\n",
        "                              activation='relu',\n",
        "                              padding='same',\n",
        "                              name='conv2')(x)\n",
        "    x = tf.keras.layers.BatchNormalization()(x)\n",
        "\n",
        "    # Third Conv2D layer\n",
        "    x = tf.keras.layers.Conv2D(64, (3, 3),\n",
        "                              activation='relu',\n",
        "                              padding='same',\n",
        "                              name='conv3')(x)\n",
        "    x = tf.keras.layers.BatchNormalization()(x)\n",
        "\n",
        "    # Flatten\n",
        "    x = tf.keras.layers.Flatten()(x)\n",
        "\n",
        "    # Dense layers\n",
        "    x = tf.keras.layers.Dense(128, activation='relu')(x)\n",
        "    x = tf.keras.layers.Dropout(0.5)(x)\n",
        "    x = tf.keras.layers.Dense(64, activation='relu')(x)\n",
        "    x = tf.keras.layers.Dropout(0.3)(x)\n",
        "\n",
        "    # Output layer\n",
        "    outputs = tf.keras.layers.Dense(5, activation='softmax')(x)  # 5 gestures\n",
        "\n",
        "    model = tf.keras.Model(inputs=inputs, outputs=outputs)\n",
        "\n",
        "    # Compile model\n",
        "    model.compile(\n",
        "        optimizer=tf.keras.optimizers.Adam(learning_rate=0.001),\n",
        "        loss='sparse_categorical_crossentropy',\n",
        "        metrics=['accuracy']\n",
        "    )\n",
        "\n",
        "    return model\n"
      ],
      "metadata": {
        "id": "tqgYn13BjH7I"
      },
      "execution_count": null,
      "outputs": []
    },
    {
      "cell_type": "markdown",
      "source": [
        "## Training Implementation"
      ],
      "metadata": {
        "id": "iaQkUzxEjREW"
      }
    },
    {
      "cell_type": "code",
      "source": [
        "def train_and_evaluate(data_path, epochs=50):\n",
        "    \"\"\"Train and evaluate the model with the paper's parameters.\"\"\"\n",
        "    # Load and preprocess data\n",
        "    data = pd.read_csv(data_path, sep=';')\n",
        "    processed_data = preprocess_data(data)\n",
        "\n",
        "    # Prepare features and labels\n",
        "    X = np.array([extract_features(row) for _, row in processed_data.iterrows()])\n",
        "    y = processed_data['gesture'].values\n",
        "\n",
        "    print(\"Input shape:\", X.shape)  # Print shape for debugging\n",
        "\n",
        "    # Split the data with the same ratio as the paper\n",
        "    X_train, X_test, y_train, y_test = train_test_split(X, y, test_size=0.2, random_state=42)\n",
        "\n",
        "    # Scale features\n",
        "    scaler = StandardScaler()\n",
        "    X_train_scaled = scaler.fit_transform(X_train)\n",
        "    X_test_scaled = scaler.transform(X_test)\n",
        "\n",
        "    # Create and train model\n",
        "    model = create_model(X_train.shape[1])\n",
        "\n",
        "    print(\"\\nModel Architecture:\")\n",
        "    model.summary()\n",
        "\n",
        "\n",
        "    # Use the same callbacks as the paper\n",
        "    callbacks = [\n",
        "        tf.keras.callbacks.EarlyStopping(\n",
        "            monitor='val_accuracy',\n",
        "            patience=10,\n",
        "            restore_best_weights=True\n",
        "        ),\n",
        "        tf.keras.callbacks.ReduceLROnPlateau(\n",
        "            monitor='val_accuracy',\n",
        "            factor=0.5,\n",
        "            patience=5,\n",
        "            min_lr=0.00001\n",
        "        )\n",
        "    ]\n",
        "\n",
        "    # Train with batch size from paper\n",
        "    history = model.fit(\n",
        "        X_train_scaled, y_train,\n",
        "        epochs=epochs,\n",
        "        batch_size=32,\n",
        "        validation_split=0.2,\n",
        "        callbacks=callbacks,\n",
        "        verbose=1\n",
        "    )\n",
        "\n",
        "    # Evaluate model\n",
        "    test_loss, test_accuracy = model.evaluate(X_test_scaled, y_test)\n",
        "    print(f\"\\nTest accuracy: {test_accuracy:.4f}\")\n",
        "\n",
        "    # Print metrics similar to paper\n",
        "    y_pred = model.predict(X_test_scaled)\n",
        "    y_pred_classes = np.argmax(y_pred, axis=1)\n",
        "\n",
        "    from sklearn.metrics import classification_report\n",
        "    print(\"\\nClassification Report:\")\n",
        "    print(classification_report(y_test, y_pred_classes))\n",
        "\n",
        "    return model, history, scaler\n"
      ],
      "metadata": {
        "id": "WM4M2ospjUCK"
      },
      "execution_count": null,
      "outputs": []
    },
    {
      "cell_type": "markdown",
      "source": [
        "## Results Visualization"
      ],
      "metadata": {
        "id": "tcP6B63ojktf"
      }
    },
    {
      "cell_type": "code",
      "source": [
        "def plot_training_history(history):\n",
        "    \"\"\"Plot training history following the paper's visualization style.\"\"\"\n",
        "    fig, (ax1, ax2) = plt.subplots(1, 2, figsize=(15, 5))\n",
        "\n",
        "    # Accuracy plot\n",
        "    ax1.plot(history.history['accuracy'], 'b-', label='Training')\n",
        "    ax1.plot(history.history['val_accuracy'], 'r-', label='Validation')\n",
        "    ax1.set_title('Model Accuracy')\n",
        "    ax1.set_xlabel('Epoch')\n",
        "    ax1.set_ylabel('Accuracy')\n",
        "    ax1.grid(True)\n",
        "    ax1.legend()\n",
        "\n",
        "    # Loss plot\n",
        "    ax2.plot(history.history['loss'], 'b-', label='Training')\n",
        "    ax2.plot(history.history['val_loss'], 'r-', label='Validation')\n",
        "    ax2.set_title('Model Loss')\n",
        "    ax2.set_xlabel('Epoch')\n",
        "    ax2.set_ylabel('Loss')\n",
        "    ax2.grid(True)\n",
        "    ax2.legend()\n",
        "\n",
        "    plt.tight_layout()\n",
        "    plt.show()"
      ],
      "metadata": {
        "id": "yvNWjBl6jnkR"
      },
      "execution_count": null,
      "outputs": []
    },
    {
      "cell_type": "markdown",
      "source": [
        "## Saving and Results"
      ],
      "metadata": {
        "id": "nHUXJFrQjv3Z"
      }
    },
    {
      "cell_type": "code",
      "source": [
        "def save_results(model, scaler, history, save_path):\n",
        "    \"\"\"Save the model and related components.\"\"\"\n",
        "    # Create directory if it doesn't exist\n",
        "    if not os.path.exists(save_path):\n",
        "        os.makedirs(save_path)\n",
        "\n",
        "    # Save model in newer .keras format\n",
        "    model.save(f'{save_path}/glove_model.keras')\n",
        "\n",
        "    joblib.dump(scaler, f'{save_path}/scaler.pkl')\n",
        "\n",
        "    # Save training history\n",
        "    with open(f'{save_path}/training_history.json', 'w') as f:\n",
        "        history_dict = {\n",
        "            'accuracy': history.history['accuracy'],\n",
        "            'val_accuracy': history.history['val_accuracy'],\n",
        "            'loss': history.history['loss'],\n",
        "            'val_loss': history.history['val_loss']\n",
        "        }\n",
        "        json.dump(history_dict, f)\n"
      ],
      "metadata": {
        "id": "LsuI5NmEjzOt"
      },
      "execution_count": null,
      "outputs": []
    },
    {
      "cell_type": "markdown",
      "source": [
        "## Let's do training"
      ],
      "metadata": {
        "id": "CDZb5HnqkAXX"
      }
    },
    {
      "cell_type": "code",
      "source": [
        "data_path = 'game_gestures.db.csv'\n",
        "model, history, scaler = train_and_evaluate(data_path, epochs=50)"
      ],
      "metadata": {
        "colab": {
          "base_uri": "https://localhost:8080/",
          "height": 1000
        },
        "id": "PcGGRF3DkKz1",
        "outputId": "2e7f1976-1b62-49d9-973c-d95b14e5e1d6"
      },
      "execution_count": null,
      "outputs": [
        {
          "output_type": "stream",
          "name": "stdout",
          "text": [
            "Input shape: (100, 142)\n",
            "\n",
            "Model Architecture:\n"
          ]
        },
        {
          "output_type": "display_data",
          "data": {
            "text/plain": [
              "\u001b[1mModel: \"functional\"\u001b[0m\n"
            ],
            "text/html": [
              "<pre style=\"white-space:pre;overflow-x:auto;line-height:normal;font-family:Menlo,'DejaVu Sans Mono',consolas,'Courier New',monospace\"><span style=\"font-weight: bold\">Model: \"functional\"</span>\n",
              "</pre>\n"
            ]
          },
          "metadata": {}
        },
        {
          "output_type": "display_data",
          "data": {
            "text/plain": [
              "┏━━━━━━━━━━━━━━━━━━━━━━━━━━━━━━━━━━━━━━┳━━━━━━━━━━━━━━━━━━━━━━━━━━━━━┳━━━━━━━━━━━━━━━━━┓\n",
              "┃\u001b[1m \u001b[0m\u001b[1mLayer (type)                        \u001b[0m\u001b[1m \u001b[0m┃\u001b[1m \u001b[0m\u001b[1mOutput Shape               \u001b[0m\u001b[1m \u001b[0m┃\u001b[1m \u001b[0m\u001b[1m        Param #\u001b[0m\u001b[1m \u001b[0m┃\n",
              "┡━━━━━━━━━━━━━━━━━━━━━━━━━━━━━━━━━━━━━━╇━━━━━━━━━━━━━━━━━━━━━━━━━━━━━╇━━━━━━━━━━━━━━━━━┩\n",
              "│ input_layer (\u001b[38;5;33mInputLayer\u001b[0m)             │ (\u001b[38;5;45mNone\u001b[0m, \u001b[38;5;34m142\u001b[0m)                 │               \u001b[38;5;34m0\u001b[0m │\n",
              "├──────────────────────────────────────┼─────────────────────────────┼─────────────────┤\n",
              "│ reshape (\u001b[38;5;33mReshape\u001b[0m)                    │ (\u001b[38;5;45mNone\u001b[0m, \u001b[38;5;34m71\u001b[0m, \u001b[38;5;34m2\u001b[0m, \u001b[38;5;34m1\u001b[0m)            │               \u001b[38;5;34m0\u001b[0m │\n",
              "├──────────────────────────────────────┼─────────────────────────────┼─────────────────┤\n",
              "│ conv1 (\u001b[38;5;33mConv2D\u001b[0m)                       │ (\u001b[38;5;45mNone\u001b[0m, \u001b[38;5;34m71\u001b[0m, \u001b[38;5;34m2\u001b[0m, \u001b[38;5;34m32\u001b[0m)           │             \u001b[38;5;34m320\u001b[0m │\n",
              "├──────────────────────────────────────┼─────────────────────────────┼─────────────────┤\n",
              "│ batch_normalization                  │ (\u001b[38;5;45mNone\u001b[0m, \u001b[38;5;34m71\u001b[0m, \u001b[38;5;34m2\u001b[0m, \u001b[38;5;34m32\u001b[0m)           │             \u001b[38;5;34m128\u001b[0m │\n",
              "│ (\u001b[38;5;33mBatchNormalization\u001b[0m)                 │                             │                 │\n",
              "├──────────────────────────────────────┼─────────────────────────────┼─────────────────┤\n",
              "│ conv2 (\u001b[38;5;33mConv2D\u001b[0m)                       │ (\u001b[38;5;45mNone\u001b[0m, \u001b[38;5;34m71\u001b[0m, \u001b[38;5;34m2\u001b[0m, \u001b[38;5;34m64\u001b[0m)           │          \u001b[38;5;34m18,496\u001b[0m │\n",
              "├──────────────────────────────────────┼─────────────────────────────┼─────────────────┤\n",
              "│ batch_normalization_1                │ (\u001b[38;5;45mNone\u001b[0m, \u001b[38;5;34m71\u001b[0m, \u001b[38;5;34m2\u001b[0m, \u001b[38;5;34m64\u001b[0m)           │             \u001b[38;5;34m256\u001b[0m │\n",
              "│ (\u001b[38;5;33mBatchNormalization\u001b[0m)                 │                             │                 │\n",
              "├──────────────────────────────────────┼─────────────────────────────┼─────────────────┤\n",
              "│ conv3 (\u001b[38;5;33mConv2D\u001b[0m)                       │ (\u001b[38;5;45mNone\u001b[0m, \u001b[38;5;34m71\u001b[0m, \u001b[38;5;34m2\u001b[0m, \u001b[38;5;34m64\u001b[0m)           │          \u001b[38;5;34m36,928\u001b[0m │\n",
              "├──────────────────────────────────────┼─────────────────────────────┼─────────────────┤\n",
              "│ batch_normalization_2                │ (\u001b[38;5;45mNone\u001b[0m, \u001b[38;5;34m71\u001b[0m, \u001b[38;5;34m2\u001b[0m, \u001b[38;5;34m64\u001b[0m)           │             \u001b[38;5;34m256\u001b[0m │\n",
              "│ (\u001b[38;5;33mBatchNormalization\u001b[0m)                 │                             │                 │\n",
              "├──────────────────────────────────────┼─────────────────────────────┼─────────────────┤\n",
              "│ flatten (\u001b[38;5;33mFlatten\u001b[0m)                    │ (\u001b[38;5;45mNone\u001b[0m, \u001b[38;5;34m9088\u001b[0m)                │               \u001b[38;5;34m0\u001b[0m │\n",
              "├──────────────────────────────────────┼─────────────────────────────┼─────────────────┤\n",
              "│ dense (\u001b[38;5;33mDense\u001b[0m)                        │ (\u001b[38;5;45mNone\u001b[0m, \u001b[38;5;34m128\u001b[0m)                 │       \u001b[38;5;34m1,163,392\u001b[0m │\n",
              "├──────────────────────────────────────┼─────────────────────────────┼─────────────────┤\n",
              "│ dropout (\u001b[38;5;33mDropout\u001b[0m)                    │ (\u001b[38;5;45mNone\u001b[0m, \u001b[38;5;34m128\u001b[0m)                 │               \u001b[38;5;34m0\u001b[0m │\n",
              "├──────────────────────────────────────┼─────────────────────────────┼─────────────────┤\n",
              "│ dense_1 (\u001b[38;5;33mDense\u001b[0m)                      │ (\u001b[38;5;45mNone\u001b[0m, \u001b[38;5;34m64\u001b[0m)                  │           \u001b[38;5;34m8,256\u001b[0m │\n",
              "├──────────────────────────────────────┼─────────────────────────────┼─────────────────┤\n",
              "│ dropout_1 (\u001b[38;5;33mDropout\u001b[0m)                  │ (\u001b[38;5;45mNone\u001b[0m, \u001b[38;5;34m64\u001b[0m)                  │               \u001b[38;5;34m0\u001b[0m │\n",
              "├──────────────────────────────────────┼─────────────────────────────┼─────────────────┤\n",
              "│ dense_2 (\u001b[38;5;33mDense\u001b[0m)                      │ (\u001b[38;5;45mNone\u001b[0m, \u001b[38;5;34m5\u001b[0m)                   │             \u001b[38;5;34m325\u001b[0m │\n",
              "└──────────────────────────────────────┴─────────────────────────────┴─────────────────┘\n"
            ],
            "text/html": [
              "<pre style=\"white-space:pre;overflow-x:auto;line-height:normal;font-family:Menlo,'DejaVu Sans Mono',consolas,'Courier New',monospace\">┏━━━━━━━━━━━━━━━━━━━━━━━━━━━━━━━━━━━━━━┳━━━━━━━━━━━━━━━━━━━━━━━━━━━━━┳━━━━━━━━━━━━━━━━━┓\n",
              "┃<span style=\"font-weight: bold\"> Layer (type)                         </span>┃<span style=\"font-weight: bold\"> Output Shape                </span>┃<span style=\"font-weight: bold\">         Param # </span>┃\n",
              "┡━━━━━━━━━━━━━━━━━━━━━━━━━━━━━━━━━━━━━━╇━━━━━━━━━━━━━━━━━━━━━━━━━━━━━╇━━━━━━━━━━━━━━━━━┩\n",
              "│ input_layer (<span style=\"color: #0087ff; text-decoration-color: #0087ff\">InputLayer</span>)             │ (<span style=\"color: #00d7ff; text-decoration-color: #00d7ff\">None</span>, <span style=\"color: #00af00; text-decoration-color: #00af00\">142</span>)                 │               <span style=\"color: #00af00; text-decoration-color: #00af00\">0</span> │\n",
              "├──────────────────────────────────────┼─────────────────────────────┼─────────────────┤\n",
              "│ reshape (<span style=\"color: #0087ff; text-decoration-color: #0087ff\">Reshape</span>)                    │ (<span style=\"color: #00d7ff; text-decoration-color: #00d7ff\">None</span>, <span style=\"color: #00af00; text-decoration-color: #00af00\">71</span>, <span style=\"color: #00af00; text-decoration-color: #00af00\">2</span>, <span style=\"color: #00af00; text-decoration-color: #00af00\">1</span>)            │               <span style=\"color: #00af00; text-decoration-color: #00af00\">0</span> │\n",
              "├──────────────────────────────────────┼─────────────────────────────┼─────────────────┤\n",
              "│ conv1 (<span style=\"color: #0087ff; text-decoration-color: #0087ff\">Conv2D</span>)                       │ (<span style=\"color: #00d7ff; text-decoration-color: #00d7ff\">None</span>, <span style=\"color: #00af00; text-decoration-color: #00af00\">71</span>, <span style=\"color: #00af00; text-decoration-color: #00af00\">2</span>, <span style=\"color: #00af00; text-decoration-color: #00af00\">32</span>)           │             <span style=\"color: #00af00; text-decoration-color: #00af00\">320</span> │\n",
              "├──────────────────────────────────────┼─────────────────────────────┼─────────────────┤\n",
              "│ batch_normalization                  │ (<span style=\"color: #00d7ff; text-decoration-color: #00d7ff\">None</span>, <span style=\"color: #00af00; text-decoration-color: #00af00\">71</span>, <span style=\"color: #00af00; text-decoration-color: #00af00\">2</span>, <span style=\"color: #00af00; text-decoration-color: #00af00\">32</span>)           │             <span style=\"color: #00af00; text-decoration-color: #00af00\">128</span> │\n",
              "│ (<span style=\"color: #0087ff; text-decoration-color: #0087ff\">BatchNormalization</span>)                 │                             │                 │\n",
              "├──────────────────────────────────────┼─────────────────────────────┼─────────────────┤\n",
              "│ conv2 (<span style=\"color: #0087ff; text-decoration-color: #0087ff\">Conv2D</span>)                       │ (<span style=\"color: #00d7ff; text-decoration-color: #00d7ff\">None</span>, <span style=\"color: #00af00; text-decoration-color: #00af00\">71</span>, <span style=\"color: #00af00; text-decoration-color: #00af00\">2</span>, <span style=\"color: #00af00; text-decoration-color: #00af00\">64</span>)           │          <span style=\"color: #00af00; text-decoration-color: #00af00\">18,496</span> │\n",
              "├──────────────────────────────────────┼─────────────────────────────┼─────────────────┤\n",
              "│ batch_normalization_1                │ (<span style=\"color: #00d7ff; text-decoration-color: #00d7ff\">None</span>, <span style=\"color: #00af00; text-decoration-color: #00af00\">71</span>, <span style=\"color: #00af00; text-decoration-color: #00af00\">2</span>, <span style=\"color: #00af00; text-decoration-color: #00af00\">64</span>)           │             <span style=\"color: #00af00; text-decoration-color: #00af00\">256</span> │\n",
              "│ (<span style=\"color: #0087ff; text-decoration-color: #0087ff\">BatchNormalization</span>)                 │                             │                 │\n",
              "├──────────────────────────────────────┼─────────────────────────────┼─────────────────┤\n",
              "│ conv3 (<span style=\"color: #0087ff; text-decoration-color: #0087ff\">Conv2D</span>)                       │ (<span style=\"color: #00d7ff; text-decoration-color: #00d7ff\">None</span>, <span style=\"color: #00af00; text-decoration-color: #00af00\">71</span>, <span style=\"color: #00af00; text-decoration-color: #00af00\">2</span>, <span style=\"color: #00af00; text-decoration-color: #00af00\">64</span>)           │          <span style=\"color: #00af00; text-decoration-color: #00af00\">36,928</span> │\n",
              "├──────────────────────────────────────┼─────────────────────────────┼─────────────────┤\n",
              "│ batch_normalization_2                │ (<span style=\"color: #00d7ff; text-decoration-color: #00d7ff\">None</span>, <span style=\"color: #00af00; text-decoration-color: #00af00\">71</span>, <span style=\"color: #00af00; text-decoration-color: #00af00\">2</span>, <span style=\"color: #00af00; text-decoration-color: #00af00\">64</span>)           │             <span style=\"color: #00af00; text-decoration-color: #00af00\">256</span> │\n",
              "│ (<span style=\"color: #0087ff; text-decoration-color: #0087ff\">BatchNormalization</span>)                 │                             │                 │\n",
              "├──────────────────────────────────────┼─────────────────────────────┼─────────────────┤\n",
              "│ flatten (<span style=\"color: #0087ff; text-decoration-color: #0087ff\">Flatten</span>)                    │ (<span style=\"color: #00d7ff; text-decoration-color: #00d7ff\">None</span>, <span style=\"color: #00af00; text-decoration-color: #00af00\">9088</span>)                │               <span style=\"color: #00af00; text-decoration-color: #00af00\">0</span> │\n",
              "├──────────────────────────────────────┼─────────────────────────────┼─────────────────┤\n",
              "│ dense (<span style=\"color: #0087ff; text-decoration-color: #0087ff\">Dense</span>)                        │ (<span style=\"color: #00d7ff; text-decoration-color: #00d7ff\">None</span>, <span style=\"color: #00af00; text-decoration-color: #00af00\">128</span>)                 │       <span style=\"color: #00af00; text-decoration-color: #00af00\">1,163,392</span> │\n",
              "├──────────────────────────────────────┼─────────────────────────────┼─────────────────┤\n",
              "│ dropout (<span style=\"color: #0087ff; text-decoration-color: #0087ff\">Dropout</span>)                    │ (<span style=\"color: #00d7ff; text-decoration-color: #00d7ff\">None</span>, <span style=\"color: #00af00; text-decoration-color: #00af00\">128</span>)                 │               <span style=\"color: #00af00; text-decoration-color: #00af00\">0</span> │\n",
              "├──────────────────────────────────────┼─────────────────────────────┼─────────────────┤\n",
              "│ dense_1 (<span style=\"color: #0087ff; text-decoration-color: #0087ff\">Dense</span>)                      │ (<span style=\"color: #00d7ff; text-decoration-color: #00d7ff\">None</span>, <span style=\"color: #00af00; text-decoration-color: #00af00\">64</span>)                  │           <span style=\"color: #00af00; text-decoration-color: #00af00\">8,256</span> │\n",
              "├──────────────────────────────────────┼─────────────────────────────┼─────────────────┤\n",
              "│ dropout_1 (<span style=\"color: #0087ff; text-decoration-color: #0087ff\">Dropout</span>)                  │ (<span style=\"color: #00d7ff; text-decoration-color: #00d7ff\">None</span>, <span style=\"color: #00af00; text-decoration-color: #00af00\">64</span>)                  │               <span style=\"color: #00af00; text-decoration-color: #00af00\">0</span> │\n",
              "├──────────────────────────────────────┼─────────────────────────────┼─────────────────┤\n",
              "│ dense_2 (<span style=\"color: #0087ff; text-decoration-color: #0087ff\">Dense</span>)                      │ (<span style=\"color: #00d7ff; text-decoration-color: #00d7ff\">None</span>, <span style=\"color: #00af00; text-decoration-color: #00af00\">5</span>)                   │             <span style=\"color: #00af00; text-decoration-color: #00af00\">325</span> │\n",
              "└──────────────────────────────────────┴─────────────────────────────┴─────────────────┘\n",
              "</pre>\n"
            ]
          },
          "metadata": {}
        },
        {
          "output_type": "display_data",
          "data": {
            "text/plain": [
              "\u001b[1m Total params: \u001b[0m\u001b[38;5;34m1,228,357\u001b[0m (4.69 MB)\n"
            ],
            "text/html": [
              "<pre style=\"white-space:pre;overflow-x:auto;line-height:normal;font-family:Menlo,'DejaVu Sans Mono',consolas,'Courier New',monospace\"><span style=\"font-weight: bold\"> Total params: </span><span style=\"color: #00af00; text-decoration-color: #00af00\">1,228,357</span> (4.69 MB)\n",
              "</pre>\n"
            ]
          },
          "metadata": {}
        },
        {
          "output_type": "display_data",
          "data": {
            "text/plain": [
              "\u001b[1m Trainable params: \u001b[0m\u001b[38;5;34m1,228,037\u001b[0m (4.68 MB)\n"
            ],
            "text/html": [
              "<pre style=\"white-space:pre;overflow-x:auto;line-height:normal;font-family:Menlo,'DejaVu Sans Mono',consolas,'Courier New',monospace\"><span style=\"font-weight: bold\"> Trainable params: </span><span style=\"color: #00af00; text-decoration-color: #00af00\">1,228,037</span> (4.68 MB)\n",
              "</pre>\n"
            ]
          },
          "metadata": {}
        },
        {
          "output_type": "display_data",
          "data": {
            "text/plain": [
              "\u001b[1m Non-trainable params: \u001b[0m\u001b[38;5;34m320\u001b[0m (1.25 KB)\n"
            ],
            "text/html": [
              "<pre style=\"white-space:pre;overflow-x:auto;line-height:normal;font-family:Menlo,'DejaVu Sans Mono',consolas,'Courier New',monospace\"><span style=\"font-weight: bold\"> Non-trainable params: </span><span style=\"color: #00af00; text-decoration-color: #00af00\">320</span> (1.25 KB)\n",
              "</pre>\n"
            ]
          },
          "metadata": {}
        },
        {
          "output_type": "stream",
          "name": "stdout",
          "text": [
            "Epoch 1/50\n",
            "\u001b[1m2/2\u001b[0m \u001b[32m━━━━━━━━━━━━━━━━━━━━\u001b[0m\u001b[37m\u001b[0m \u001b[1m6s\u001b[0m 401ms/step - accuracy: 0.2500 - loss: 2.4281 - val_accuracy: 0.2500 - val_loss: 1.5903 - learning_rate: 0.0010\n",
            "Epoch 2/50\n",
            "\u001b[1m2/2\u001b[0m \u001b[32m━━━━━━━━━━━━━━━━━━━━\u001b[0m\u001b[37m\u001b[0m \u001b[1m0s\u001b[0m 111ms/step - accuracy: 0.6562 - loss: 1.2527 - val_accuracy: 0.3125 - val_loss: 1.5769 - learning_rate: 0.0010\n",
            "Epoch 3/50\n",
            "\u001b[1m2/2\u001b[0m \u001b[32m━━━━━━━━━━━━━━━━━━━━\u001b[0m\u001b[37m\u001b[0m \u001b[1m0s\u001b[0m 113ms/step - accuracy: 0.8021 - loss: 0.6859 - val_accuracy: 0.6250 - val_loss: 1.5537 - learning_rate: 0.0010\n",
            "Epoch 4/50\n",
            "\u001b[1m2/2\u001b[0m \u001b[32m━━━━━━━━━━━━━━━━━━━━\u001b[0m\u001b[37m\u001b[0m \u001b[1m0s\u001b[0m 111ms/step - accuracy: 0.8125 - loss: 0.6427 - val_accuracy: 0.8125 - val_loss: 1.5262 - learning_rate: 0.0010\n",
            "Epoch 5/50\n",
            "\u001b[1m2/2\u001b[0m \u001b[32m━━━━━━━━━━━━━━━━━━━━\u001b[0m\u001b[37m\u001b[0m \u001b[1m0s\u001b[0m 120ms/step - accuracy: 0.8125 - loss: 0.4667 - val_accuracy: 0.6875 - val_loss: 1.4991 - learning_rate: 0.0010\n",
            "Epoch 6/50\n",
            "\u001b[1m2/2\u001b[0m \u001b[32m━━━━━━━━━━━━━━━━━━━━\u001b[0m\u001b[37m\u001b[0m \u001b[1m0s\u001b[0m 103ms/step - accuracy: 0.8646 - loss: 0.3727 - val_accuracy: 0.7500 - val_loss: 1.4733 - learning_rate: 0.0010\n",
            "Epoch 7/50\n",
            "\u001b[1m2/2\u001b[0m \u001b[32m━━━━━━━━━━━━━━━━━━━━\u001b[0m\u001b[37m\u001b[0m \u001b[1m0s\u001b[0m 119ms/step - accuracy: 0.8750 - loss: 0.5334 - val_accuracy: 0.7500 - val_loss: 1.4439 - learning_rate: 0.0010\n",
            "Epoch 8/50\n",
            "\u001b[1m2/2\u001b[0m \u001b[32m━━━━━━━━━━━━━━━━━━━━\u001b[0m\u001b[37m\u001b[0m \u001b[1m0s\u001b[0m 112ms/step - accuracy: 0.9479 - loss: 0.2578 - val_accuracy: 0.7500 - val_loss: 1.4176 - learning_rate: 0.0010\n",
            "Epoch 9/50\n",
            "\u001b[1m2/2\u001b[0m \u001b[32m━━━━━━━━━━━━━━━━━━━━\u001b[0m\u001b[37m\u001b[0m \u001b[1m0s\u001b[0m 111ms/step - accuracy: 0.8854 - loss: 0.4568 - val_accuracy: 0.7500 - val_loss: 1.3998 - learning_rate: 0.0010\n",
            "Epoch 10/50\n",
            "\u001b[1m2/2\u001b[0m \u001b[32m━━━━━━━━━━━━━━━━━━━━\u001b[0m\u001b[37m\u001b[0m \u001b[1m0s\u001b[0m 103ms/step - accuracy: 0.8750 - loss: 0.5989 - val_accuracy: 0.6875 - val_loss: 1.3838 - learning_rate: 5.0000e-04\n",
            "Epoch 11/50\n",
            "\u001b[1m2/2\u001b[0m \u001b[32m━━━━━━━━━━━━━━━━━━━━\u001b[0m\u001b[37m\u001b[0m \u001b[1m0s\u001b[0m 111ms/step - accuracy: 0.9271 - loss: 0.1727 - val_accuracy: 0.6875 - val_loss: 1.3661 - learning_rate: 5.0000e-04\n",
            "Epoch 12/50\n",
            "\u001b[1m2/2\u001b[0m \u001b[32m━━━━━━━━━━━━━━━━━━━━\u001b[0m\u001b[37m\u001b[0m \u001b[1m0s\u001b[0m 105ms/step - accuracy: 0.8854 - loss: 0.3304 - val_accuracy: 0.6875 - val_loss: 1.3520 - learning_rate: 5.0000e-04\n",
            "Epoch 13/50\n",
            "\u001b[1m2/2\u001b[0m \u001b[32m━━━━━━━━━━━━━━━━━━━━\u001b[0m\u001b[37m\u001b[0m \u001b[1m0s\u001b[0m 124ms/step - accuracy: 0.9479 - loss: 0.3685 - val_accuracy: 0.6250 - val_loss: 1.3374 - learning_rate: 5.0000e-04\n",
            "Epoch 14/50\n",
            "\u001b[1m2/2\u001b[0m \u001b[32m━━━━━━━━━━━━━━━━━━━━\u001b[0m\u001b[37m\u001b[0m \u001b[1m0s\u001b[0m 115ms/step - accuracy: 0.9583 - loss: 0.2187 - val_accuracy: 0.6250 - val_loss: 1.3243 - learning_rate: 5.0000e-04\n",
            "\u001b[1m1/1\u001b[0m \u001b[32m━━━━━━━━━━━━━━━━━━━━\u001b[0m\u001b[37m\u001b[0m \u001b[1m0s\u001b[0m 36ms/step - accuracy: 0.8500 - loss: 1.4789\n",
            "\n",
            "Test accuracy: 0.8500\n",
            "\u001b[1m1/1\u001b[0m \u001b[32m━━━━━━━━━━━━━━━━━━━━\u001b[0m\u001b[37m\u001b[0m \u001b[1m0s\u001b[0m 147ms/step\n",
            "\n",
            "Classification Report:\n",
            "              precision    recall  f1-score   support\n",
            "\n",
            "           0       1.00      0.60      0.75         5\n",
            "           1       1.00      0.67      0.80         3\n",
            "           2       1.00      1.00      1.00         1\n",
            "           3       1.00      1.00      1.00         5\n",
            "           4       0.67      1.00      0.80         6\n",
            "\n",
            "    accuracy                           0.85        20\n",
            "   macro avg       0.93      0.85      0.87        20\n",
            "weighted avg       0.90      0.85      0.85        20\n",
            "\n"
          ]
        }
      ]
    },
    {
      "cell_type": "markdown",
      "source": [
        "## Store Results"
      ],
      "metadata": {
        "id": "rIBd5K7Ekavm"
      }
    },
    {
      "cell_type": "code",
      "source": [
        "save_path = 'results'\n",
        "save_results(model, scaler, history, save_path)"
      ],
      "metadata": {
        "id": "GBXkIP8MkdLY"
      },
      "execution_count": null,
      "outputs": []
    },
    {
      "cell_type": "markdown",
      "source": [
        "## Visualistion"
      ],
      "metadata": {
        "id": "uR5IZkbekq2l"
      }
    },
    {
      "cell_type": "code",
      "source": [
        "plot_training_history(history)"
      ],
      "metadata": {
        "colab": {
          "base_uri": "https://localhost:8080/",
          "height": 507
        },
        "id": "zGma57IdktxB",
        "outputId": "1a7e167c-41d6-4b20-b2fa-adad4888f114"
      },
      "execution_count": null,
      "outputs": [
        {
          "output_type": "display_data",
          "data": {
            "text/plain": [
              "<Figure size 1500x500 with 2 Axes>"
            ],
            "image/png": "[encoded data removed]"
          },
          "metadata": {}
        }
      ]
    }
  ]
}